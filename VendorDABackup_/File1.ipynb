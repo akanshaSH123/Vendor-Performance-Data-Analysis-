{
 "cells": [
  {
   "cell_type": "code",
   "execution_count": null,
   "id": "9cf41311-22ec-4d6b-99f7-ac8168861333",
   "metadata": {},
   "outputs": [],
   "source": [
    "import pandas as pd\n",
    "import os \n",
    "from sqlalchemy import create_engine\n",
    "import logging\n",
    "import time\n",
    "\n",
    "logging.basicConfig(\n",
    "    filename =\"logs/ingestion_db.log\",\n",
    "    level = logging.DEBUG,\n",
    "    format=\"%(asctime)s - %(levelname)s - %(message)s\",\n",
    "    filemode =\"a\"\n",
    ")\n",
    "\n",
    "engine = create_engine('sqlite:///inventory.db')\n",
    "\n",
    "def ingest_db(df, table_name, engine):\n",
    "    '''this function will ingest the dataframe into database table'''\n",
    "    df.to_sql(table_name, con = engine, if_exists = 'replace', index = False)\n",
    "\n",
    "def load_raw_data():\n",
    "    '''This function will load the CSV's as dataframeand ingest into db'''\n",
    "    start = time.time()\n",
    "    for file in os.listdir('Data') :\n",
    "        if '.csv' in file:\n",
    "            df = pd.read_csv('Data/' +file)\n",
    "            logging.info('Ingesting {file} in db')\n",
    "            ingest_db(df, file[:-4], engine)\n",
    "    end = time.time()\n",
    "    total_time =(end - start)/60\n",
    "    logging.info('Ingestion Complete')\n",
    "    logging.info(f'\\nTotal Time taken: {total_time} minutes')\n",
    "\n",
    "if __name__ == '__main__' :\n",
    "    load_raw_data()"
   ]
  },
  {
   "cell_type": "code",
   "execution_count": 8,
   "id": "9772d581-887c-4bd6-a59d-2f8f0e31d710",
   "metadata": {},
   "outputs": [],
   "source": []
  },
  {
   "cell_type": "code",
   "execution_count": 16,
   "id": "55abcb4e-0fe0-4756-91d3-30daff00e4e4",
   "metadata": {},
   "outputs": [],
   "source": []
  },
  {
   "cell_type": "code",
   "execution_count": 2,
   "id": "82a7e954-5e0e-415f-8443-0de25435daaf",
   "metadata": {},
   "outputs": [],
   "source": []
  },
  {
   "cell_type": "code",
   "execution_count": null,
   "id": "fba07dff-e98c-466b-b19e-c302a8ef8e9a",
   "metadata": {},
   "outputs": [],
   "source": []
  }
 ],
 "metadata": {
  "kernelspec": {
   "display_name": "Python 3 (ipykernel)",
   "language": "python",
   "name": "python3"
  },
  "language_info": {
   "codemirror_mode": {
    "name": "ipython",
    "version": 3
   },
   "file_extension": ".py",
   "mimetype": "text/x-python",
   "name": "python",
   "nbconvert_exporter": "python",
   "pygments_lexer": "ipython3",
   "version": "3.12.4"
  }
 },
 "nbformat": 4,
 "nbformat_minor": 5
}
