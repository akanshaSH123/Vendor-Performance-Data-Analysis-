{
 "cells": [
  {
   "cell_type": "code",
   "execution_count": 11,
   "id": "9cf41311-22ec-4d6b-99f7-ac8168861333",
   "metadata": {},
   "outputs": [],
   "source": [
    "import pandas as pd\n",
    "import os \n",
    "from sqlalchemy import create_engine"
   ]
  },
  {
   "cell_type": "code",
   "execution_count": 13,
   "id": "9772d581-887c-4bd6-a59d-2f8f0e31d710",
   "metadata": {},
   "outputs": [],
   "source": [
    "engine = create_engine('sqlite:///inventory.db')"
   ]
  },
  {
   "cell_type": "code",
   "execution_count": 21,
   "id": "55abcb4e-0fe0-4756-91d3-30daff00e4e4",
   "metadata": {},
   "outputs": [
    {
     "name": "stdout",
     "output_type": "stream",
     "text": [
      "begin_inventory.csv\n",
      "(206529, 9)\n",
      "end_inventory.csv\n",
      "(224489, 9)\n",
      "purchases.csv\n",
      "(2372474, 16)\n",
      "purchase_prices.csv\n",
      "(12261, 9)\n",
      "sales.csv\n",
      "(10960807, 14)\n",
      "vendor_invoice.csv\n",
      "(5543, 10)\n"
     ]
    }
   ],
   "source": [
    "for file in os.listdir('Data') :\n",
    "    print(file)\n",
    "    df = pd.read_csv('Data/' +file)\n",
    "    print(df.shape)"
   ]
  },
  {
   "cell_type": "code",
   "execution_count": null,
   "id": "82a7e954-5e0e-415f-8443-0de25435daaf",
   "metadata": {},
   "outputs": [],
   "source": []
  }
 ],
 "metadata": {
  "kernelspec": {
   "display_name": "Python 3 (ipykernel)",
   "language": "python",
   "name": "python3"
  },
  "language_info": {
   "codemirror_mode": {
    "name": "ipython",
    "version": 3
   },
   "file_extension": ".py",
   "mimetype": "text/x-python",
   "name": "python",
   "nbconvert_exporter": "python",
   "pygments_lexer": "ipython3",
   "version": "3.12.4"
  }
 },
 "nbformat": 4,
 "nbformat_minor": 5
}
